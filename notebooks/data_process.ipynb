{
 "metadata": {
  "name": "",
  "signature": "sha256:cead3f62183e945ae88b97a063921bb906e29ac917eca795ba5c61c0bb045d74"
 },
 "nbformat": 3,
 "nbformat_minor": 0,
 "worksheets": [
  {
   "cells": [
    {
     "cell_type": "code",
     "collapsed": false,
     "input": [
      "import json\n",
      "\n",
      "data_path = 'C:/Users/mramire8/Documents/Datasets/twitter'\n",
      "data_path = '../../data/twitter'\n",
      "\n",
      "def get_tweets_file(path):\n",
      "    f = open(path)\n",
      "\n",
      "    i = 0\n",
      "    users = []\n",
      "    for line in f:\n",
      "        data = line.split(\"]][[\")\n",
      "        last = len(data)\n",
      "\n",
      "    for i,tweets in enumerate(data):\n",
      "            if i == 0:\n",
      "                t = json.loads(tweets[1:] + \"]\")\n",
      "            elif i == (last-1):\n",
      "                t = json.loads(\"[\"+tweets[:-1])\n",
      "            else:\n",
      "                t = json.loads(\"[\"+tweets+\"]\")\n",
      "            users.append(t)\n",
      "\n",
      "    return users\n",
      "\n",
      "good = get_tweets_file(data_path + \"/good.json\")\n",
      "print \"Real users %s\" % (len(good))\n",
      "     \n",
      "bots = get_tweets_file(data_path + \"/bots.json\")\n",
      "print \"Bot users %s\" % (len(bots))\n"
     ],
     "language": "python",
     "metadata": {},
     "outputs": [
      {
       "output_type": "stream",
       "stream": "stdout",
       "text": [
        "Real users 883\n",
        "Bot users 898"
       ]
      },
      {
       "output_type": "stream",
       "stream": "stdout",
       "text": [
        "\n"
       ]
      }
     ],
     "prompt_number": 1
    },
    {
     "cell_type": "code",
     "collapsed": false,
     "input": [
      "print \"total: \", 883+898\n",
      "print \"\\n\".join(sorted(good[0][0].keys()))\n",
      "    "
     ],
     "language": "python",
     "metadata": {},
     "outputs": [
      {
       "output_type": "stream",
       "stream": "stdout",
       "text": [
        "total:  1781\n",
        "contributors\n",
        "coordinates\n",
        "created_at\n",
        "entities\n",
        "favorite_count\n",
        "favorited\n",
        "geo\n",
        "id\n",
        "id_str\n",
        "in_reply_to_screen_name\n",
        "in_reply_to_status_id\n",
        "in_reply_to_status_id_str\n",
        "in_reply_to_user_id\n",
        "in_reply_to_user_id_str\n",
        "lang\n",
        "place\n",
        "possibly_sensitive\n",
        "retweet_count\n",
        "retweeted\n",
        "source\n",
        "text\n",
        "truncated\n",
        "user\n"
       ]
      }
     ],
     "prompt_number": 63
    },
    {
     "cell_type": "code",
     "collapsed": false,
     "input": [
      "print \"\\n\".join(sorted(good[0][0]['user'].keys()))"
     ],
     "language": "python",
     "metadata": {},
     "outputs": [
      {
       "output_type": "stream",
       "stream": "stdout",
       "text": [
        "contributors_enabled\n",
        "created_at\n",
        "default_profile\n",
        "default_profile_image\n",
        "description\n",
        "entities\n",
        "favourites_count\n",
        "follow_request_sent\n",
        "followers_count\n",
        "following\n",
        "friends_count\n",
        "geo_enabled\n",
        "id\n",
        "id_str\n",
        "is_translation_enabled\n",
        "is_translator\n",
        "lang\n",
        "listed_count\n",
        "location\n",
        "name\n",
        "notifications\n",
        "profile_background_color\n",
        "profile_background_image_url\n",
        "profile_background_image_url_https\n",
        "profile_background_tile\n",
        "profile_banner_url\n",
        "profile_image_url\n",
        "profile_image_url_https\n",
        "profile_link_color\n",
        "profile_location\n",
        "profile_sidebar_border_color\n",
        "profile_sidebar_fill_color\n",
        "profile_text_color\n",
        "profile_use_background_image\n",
        "protected\n",
        "screen_name\n",
        "statuses_count\n",
        "time_zone\n",
        "url\n",
        "utc_offset\n",
        "verified\n"
       ]
      }
     ],
     "prompt_number": 3
    },
    {
     "cell_type": "markdown",
     "metadata": {},
     "source": [
      "## Distribution of dates from Tweets\n",
      "To avoid bias of the classifier by trending topics the data should belong to the same date range. We want to make sure the users belong to the same period of time. \n",
      "\n",
      "For example, the classifier can learn the topics instead of distinguishing bots from real users. We check for the date distribution of both classes. "
     ]
    },
    {
     "cell_type": "code",
     "collapsed": false,
     "input": [
      "import datetime\n",
      "from collections import Counter\n",
      "\n",
      "def get_date(date_str):\n",
      "    return datetime.datetime.strptime(date_str.strip('\"'), \"%a %b %d %H:%M:%S +0000 %Y\")\n",
      "\n",
      "# datetime.strptime((r.json()[x][\"created_at\"]).strip('\"'), \"%a %b %d %H:%M:%S +0000 %Y\")\n",
      "def count_dates(users):\n",
      "    dates = Counter()\n",
      "    min_dt = get_date(users[0][0]['created_at'])\n",
      "    for user in users:\n",
      "        d = get_date(user[0]['created_at'])\n",
      "        min_dt = min(min_dt, d)\n",
      "        dates.update([d])\n",
      "    return dates, min_dt\n",
      "\n",
      "good_counts, min_good = count_dates(good)\n",
      "print \"Most common: %s\" % good_counts.most_common(3)\n",
      "print \"Latest: %s\" % min_good\n",
      "        \n",
      "bots_counts, min_bots = count_dates(bots)\n",
      "print \"Most common: %s\" % bots_counts.most_common(3)\n",
      "print \"Latest: %s\" % min_bots\n",
      "\n",
      "    "
     ],
     "language": "python",
     "metadata": {},
     "outputs": [
      {
       "output_type": "stream",
       "stream": "stdout",
       "text": [
        "Most common: [(datetime.datetime(2014, 10, 29, 2, 27, 39), 2), (datetime.datetime(2014, 10, 29, 1, 30, 20), 2), (datetime.datetime(2014, 10, 28, 23, 0, 55), 2)]\n",
        "Latest: 2009-11-24 02:11:19\n",
        "Most common: [(datetime.datetime(2014, 10, 29, 6, 46, 9), 2), (datetime.datetime(2014, 10, 30, 0, 17, 5), 2), (datetime.datetime(2014, 10, 20, 22, 24, 23), 1)]"
       ]
      },
      {
       "output_type": "stream",
       "stream": "stdout",
       "text": [
        "\n",
        "Latest: 2009-11-01 12:56:32\n"
       ]
      }
     ],
     "prompt_number": 4
    },
    {
     "cell_type": "code",
     "collapsed": false,
     "input": [
      "## Number of users that have old tweets in good users\n",
      "## with tweets not in 2014\n",
      "print \"Old good users %s\" %  len([d for d in good_counts.keys() if d.year < 2014])\n",
      "print \"Old bot users %s\" %  len([d for d in bots_counts.keys() if d.year < 2014])"
     ],
     "language": "python",
     "metadata": {},
     "outputs": [
      {
       "output_type": "stream",
       "stream": "stdout",
       "text": [
        "Old good users 45\n",
        "Old bot users 173\n"
       ]
      }
     ],
     "prompt_number": 5
    },
    {
     "cell_type": "code",
     "collapsed": false,
     "input": [
      "import matplotlib.pyplot as plt\n",
      "import matplotlib.dates as mdates\n",
      "import matplotlib as mpl \n",
      "\n",
      "# mpl.style.use('fivethirtyeight')\n",
      "\n",
      "years    = mdates.YearLocator()   # every year\n",
      "months   = mdates.MonthLocator()  # every month\n",
      "yearsFmt = mdates.DateFormatter('%Y')\n",
      "monthsFmt = mdates.DateFormatter('%Y-%m')\n",
      "fig = plt.figure()\n",
      "ax = plt.axes()\n",
      "\n",
      "gds =[(d,c) for d,c in good_counts.iteritems() if d.year > 2013]\n",
      "bts =[(d,c) for d,c in bots_counts.iteritems() if d.year > 2013]\n",
      "\n",
      "\n",
      "kg = [d.toordinal() for d,_ in gds]\n",
      "kb = [d.toordinal() for d,_ in bts]\n",
      "wg = [c for _,c in gds]\n",
      "wb = [c for _,c in bts]\n",
      "plt.hist([kg,kb], weights=[wg,wb], bins=20, stacked=False, alpha=.7, label=['real', 'bots'])\n",
      "\n",
      "ax.xaxis.set_major_locator(months)\n",
      "ax.xaxis.set_major_formatter(monthsFmt)\n",
      "# ax.xaxis.set_minor_locator(months)\n",
      "plt.legend(loc='best', frameon=False, numpoints=1)\n",
      "ax.format_xdata = mdates.DateFormatter('%Y-%m-%d')\n"
     ],
     "language": "python",
     "metadata": {},
     "outputs": [
      {
       "metadata": {},
       "output_type": "display_data",
       "png": "[encoded data removed]",
       "text": [
        "<matplotlib.figure.Figure at 0x11228dc10>"
       ]
      }
     ],
     "prompt_number": 84
    },
    {
     "cell_type": "markdown",
     "metadata": {},
     "source": [
      "## Data Processing\n",
      "For each user we have tweet in the timeline. Let $s=\\{t | t \\text{ is a tweet}\\}_{1}^{200}$ be the tweets of a user. Let $D=\\{(s,y)\\}_1^n$, where $y=\\{'human','bot'\\}$. \n",
      "\n",
      "### Text Processing \n",
      "For every user we process the text of the twee as follows:\n",
      "* Collapse URL\n",
      "* Collapse mentions\n",
      "* Lower case all text \n",
      "* Remove uses that have not tweeted this year (i.e., 2014)\n",
      "\n",
      "###Dataset Format\n",
      "We create a dataset dictionary containing: \n",
      "* **data**: All tweet objects per user\n",
      "* **target**: Class label of each user. Labels are 0:humans 1:bots\n",
      "* **user_id**: screen name of the user\n",
      "* **user_name**: full name of the user\n",
      "* **user_text**: all text of tweets converted into one single text"
     ]
    },
    {
     "cell_type": "code",
     "collapsed": false,
     "input": [
      "## convert the tweet into a data format of text documents\n",
      "# from sklearn.datasets.base import Bunch\n",
      "import re\n",
      "from sklearn.feature_extraction.text import CountVectorizer, TfidfVectorizer\n",
      "\n",
      "def preprocess(string, lowercase, collapse_urls, collapse_mentions):\n",
      "    if not string:\n",
      "        return \"\"\n",
      "    if lowercase:\n",
      "        string = string.lower()\n",
      "#     tokens = []\n",
      "    if collapse_urls:\n",
      "        string = re.sub('http\\S+', 'THIS_IS_A_URL', string)\n",
      "    if collapse_mentions:\n",
      "        string = re.sub('@\\S+', 'THIS_IS_A_MENTION', string)\n",
      "#     if prefix:\n",
      "#         tokens = ['%s%s' % (prefix, t) for t in tokens]\n",
      "    return string\n",
      "\n",
      "def timeline_to_doc(user, *args):\n",
      "    tweets = []\n",
      "    for tw in user:\n",
      "        tweets.append(preprocess(tw['text'], *args))\n",
      "    return tweets\n",
      "\n",
      "def user_to_doc(users, *args):\n",
      "    timeline = []\n",
      "    user_names = []\n",
      "    user_id = []\n",
      "    \n",
      "    for user in users:\n",
      "        timeline.append(timeline_to_doc(user, *args))\n",
      "        user_names.append(user[0]['user']['name'])\n",
      "        user_id.append(user[0]['user']['screen_name'])\n",
      "    return user_id, user_names, timeline\n",
      "\n",
      "def bunch_users(class1, class2, vct, *options):\n",
      "    labels = None\n",
      "    if labels is None:\n",
      "        labels = [0,1]\n",
      "\n",
      "    user_id, user_names, timeline = user_to_doc(class1, *options)\n",
      "    user_id2, user_names2, timeline2 = user_to_doc(class2, *options)\n",
      "    target = [labels[0]] * len(user_id)\n",
      "    user_id.extend(user_id2)\n",
      "    user_names.extend(user_names2)\n",
      "    timeline.extend(timeline2)\n",
      "    target.extend([labels[1]]* len(user_id2))\n",
      "    user_text = [\". \".join(t) for  t in timeline]\n",
      "#     data = Bunch(data=timeline, target=target, user_id=user_id, user_name=user_names)\n",
      "    data = {'data':timeline, 'target':np.array(target), 'user_id':user_id, 'user_name':user_names, 'user_text':user_text}\n",
      "    data['bow'] = vct.fit_transform(data['user_text'])\n",
      "\n",
      "    random_state = np.random.RandomState(5612)        \n",
      "\n",
      "    indices = np.arange(data['bow'].shape[0])\n",
      "    random_state.shuffle(indices)\n",
      "    data['target'] = np.array(data['target'])[indices]\n",
      "    data_lst = np.array(data['data'] , dtype=object)\n",
      "    data_lst = data_lst[indices]\n",
      "    data['data'] = data_lst.tolist()\n",
      "    data['bow'] = data['bow'][indices]\n",
      "    data['user_id'] = np.array(data['user_id'])[indices]\n",
      "    data['user_name'] = np.array(data['user_id'])[indices]\n",
      "    data['user_text'] = np.array(data['user_id'])[indices]\n",
      "\n",
      "    return data\n",
      "       "
     ],
     "language": "python",
     "metadata": {},
     "outputs": [],
     "prompt_number": 118
    },
    {
     "cell_type": "code",
     "collapsed": false,
     "input": [
      "vct = TfidfVectorizer(encoding='latin1', min_df=5, max_df=1.0, binary=False, ngram_range=(1, 1),\n",
      "                      token_pattern='\\\\b\\\\w+\\\\b') \n",
      "\n",
      "gds =[g for g in good if get_date(g[0]['created_at']).year > 2013]\n",
      "bts =[b for b in bots if get_date(b[0]['created_at']).year > 2013]\n",
      "\n",
      "data = bunch_users(gds,bts, vct, True, False, False)\n",
      "\n",
      "print \"Total data:\", len(data['target'])"
     ],
     "language": "python",
     "metadata": {},
     "outputs": [
      {
       "output_type": "stream",
       "stream": "stdout",
       "text": [
        "Total data: 1563\n"
       ]
      }
     ],
     "prompt_number": 140
    },
    {
     "cell_type": "markdown",
     "metadata": {},
     "source": [
      "## Learning Curve: Random Sampling Baseline\n",
      "\n",
      "Test the learning curve as a baseline. This curve is of a classifier trained on documents. "
     ]
    },
    {
     "cell_type": "code",
     "collapsed": false,
     "input": [
      "import sys\n",
      "import os\n",
      "\n",
      "sys.path.append(os.path.abspath(\"/opt/local/Library/Frameworks/Python.framework/Versions/2.7/lib/python2.7/site-packages\"))\n",
      "\n",
      "from sklearn.learning_curve import learning_curve\n",
      "from sklearn import linear_model\n",
      "from sklearn.naive_bayes import MultinomialNB\n",
      "import sklearn.metrics as metrics\n",
      "\n",
      "# import brewer2mpl\n",
      "from sklearn.cross_validation import StratifiedKFold, cross_val_score, KFold, ShuffleSplit\n",
      "import itertools\n",
      "\n",
      "def learning_curve_tweet(data,clf, sizes=None):\n",
      "\n",
      "    col = brewer2mpl.get_map('Set1', 'qualitative', 7).mpl_colors\n",
      "    colors_n = itertools.cycle(col)\n",
      "\n",
      "    indices = np.arange(data['bow'].shape[0])\n",
      "    random_state.shuffle(indices)\n",
      "    data['target'] = np.array(data['target'])[indices]\n",
      "    data_lst = np.array(data['data'] , dtype=object)\n",
      "    data_lst = data_lst[indices]\n",
      "    data['data'] = data_lst.tolist()\n",
      "    data['bow'] = data['bow'][indices]\n",
      "    try:\n",
      "        data['user_id'] = np.array(data['user_id'])[indices]\n",
      "        data['user_name'] = np.array(data['user_id'])[indices]\n",
      "        data['user_text'] = np.array(data['user_id'])[indices]\n",
      "    except Exception:\n",
      "        pass\n",
      "\n",
      "    kcv = KFold(len(data['target']), n_folds=5, random_state=random_state,shuffle=True)\n",
      "\n",
      "    scoring_fn = 'accuracy'\n",
      "#     print(\"Classifier name:\", clf.__class__.__name__, \"C=\", clf.C)\n",
      "#     print(\"CV data:\", data['bow'])\n",
      "    if sizes is None:\n",
      "        sizes = range(20, 4* len(data['target'])/5, 100)\n",
      "    train_sizes, train_scores, test_scores = learning_curve(\n",
      "        clf, data['bow'], data['target'], train_sizes=sizes, cv=5, scoring=scoring_fn, n_jobs=2)\n",
      "    \n",
      "    current_color = colors_n.next()\n",
      "\n",
      "    train_scores_mean = np.mean(train_scores, axis=1)\n",
      "    train_scores_std = np.std(train_scores, axis=1)\n",
      "    test_scores_mean = np.mean(test_scores, axis=1)\n",
      "    test_scores_std = 1.0 * np.std(test_scores, axis=1) / np.sqrt(5.0)\n",
      "\n",
      "    plt.fill_between(train_sizes, test_scores_mean - test_scores_std,\n",
      "                     test_scores_mean + test_scores_std, alpha=0.1, color=current_color)\n",
      "    plt.plot(train_sizes, test_scores_mean, 'o-', mfc='white', linewidth=2, mew=2, markersize=10, mec=current_color, color=current_color,\n",
      "             # label=\"Cross-validation score\")\n",
      "             label=\"C={}\".format(clf.C))\n",
      "\n",
      "    print (\"-\"*40)\n",
      "    print (\"\\nCOST\\tMEAN\\tSTDEV\")\n",
      "    print (\"\\n\".join([\"{0}\\t{1:.3f}\\t{2:.4f}\".format(c,m,s) for c,m,s in zip(train_sizes, test_scores_mean, test_scores_std)]))\n",
      "    plt.legend(loc=\"best\")\n",
      "    # plt.savefig('lr-{0}.png'.format(vct.__class__.__name__), bbox_inches=\"tight\", dpi=200, transparent=True)\n",
      "    plt.savefig('lradapt-sent-sent.png', bbox_inches=\"tight\", dpi=200, transparent=True)\n",
      "    plt.show()\n",
      "\n"
     ],
     "language": "python",
     "metadata": {},
     "outputs": [],
     "prompt_number": 194
    },
    {
     "cell_type": "code",
     "collapsed": false,
     "input": [
      "classifier = 'lr'\n",
      "if classifier == \"mnb\":\n",
      "    clf = MultinomialNB(alpha=1)\n",
      "else:\n",
      "    clf = linear_model.LogisticRegression(penalty='l1', C=10)\n",
      "\n",
      "learning_curve_tweet(data,clf)"
     ],
     "language": "python",
     "metadata": {},
     "outputs": [
      {
       "output_type": "stream",
       "stream": "stdout",
       "text": [
        "----------------------------------------\n",
        "\n",
        "COST\tMEAN\tSTDEV\n",
        "10\t0.679\t0.0201\n",
        "110\t0.716\t0.0139\n",
        "210\t0.764\t0.0063\n",
        "310\t0.782\t0.0049\n",
        "410\t0.793\t0.0091\n",
        "510\t0.795\t0.0058\n",
        "610\t0.806\t0.0065\n",
        "710\t0.806\t0.0065\n",
        "810\t0.821\t0.0114\n",
        "910\t0.816\t0.0102\n",
        "1010\t0.821\t0.0070\n",
        "1110\t0.825\t0.0113\n",
        "1210\t0.828\t0.0104\n"
       ]
      },
      {
       "metadata": {},
       "output_type": "display_data",
       "png": "[encoded data removed]",
       "text": [
        "<matplotlib.figure.Figure at 0x10e12de90>"
       ]
      }
     ],
     "prompt_number": 156
    },
    {
     "cell_type": "markdown",
     "metadata": {},
     "source": [
      "## Preprocessing Options\n",
      "The following results show how the preprocessing of text affects the classification\n",
      "\n",
      "###Results\n",
      "**Text Processing**\n",
      "We observe that there are not significant in the options. However, the best options are:\n",
      "* lower=True\turl=True\tmention=True\n",
      "* lower=True\turl=False\tmention=True\n",
      "* lower=False\turl=True\tmention=True\n",
      "* lower=False\turl=False\tmention=True\n",
      "\n",
      "This seems to suggest that collapsing mentions helps more than other processing options.\n"
     ]
    },
    {
     "cell_type": "code",
     "collapsed": false,
     "input": [
      "## try all combinations of data\n",
      "\n",
      "def try_all(clf, vct, good, bots):\n",
      "    # Trying all possible options \n",
      "    lowercase_opts = [True, False]\n",
      "    # keep_punctuation_opts = [True, False]\n",
      "    url_opts = [True, False]\n",
      "    mention_opts = [True, False]\n",
      "\n",
      "    argnames = ['lower', 'url', 'mention']\n",
      "    option_iter = itertools.product( lowercase_opts,\n",
      "                           url_opts,\n",
      "                           mention_opts)\n",
      "    results = []\n",
      "    for options in option_iter:\n",
      "        print '\\t'.join('%s=%s' % (name, opt) for name, opt in zip(argnames, options))\n",
      "        data = bunch_users(good, bots, vct, *options)\n",
      "        cv_scores = cross_val_score(clf, data['bow'], data['target'], cv=5, n_jobs=1)\n",
      "        print(\"5-f CV Accuracy: %0.2f (+/- %0.2f)\" % (cv_scores.mean(), cv_scores.std() * 2))\n",
      "\n"
     ],
     "language": "python",
     "metadata": {},
     "outputs": [],
     "prompt_number": 160
    },
    {
     "cell_type": "code",
     "collapsed": false,
     "input": [
      "clf = linear_model.LogisticRegression(penalty='l1', C=10)\n",
      "\n",
      "vct = TfidfVectorizer(encoding='latin1', min_df=5, max_df=1.0, binary=False, ngram_range=(1,1),\n",
      "                      token_pattern='\\\\b\\\\w+\\\\b') \n",
      "\n",
      "try_all(clf, vct, gds, bts)"
     ],
     "language": "python",
     "metadata": {},
     "outputs": [
      {
       "output_type": "stream",
       "stream": "stdout",
       "text": [
        "lower=True\turl=True\tmention=True\n",
        "5-f CV Accuracy: 0.83 (+/- 0.05)"
       ]
      },
      {
       "output_type": "stream",
       "stream": "stdout",
       "text": [
        "\n",
        "lower=True\turl=True\tmention=False\n",
        "5-f CV Accuracy: 0.82 (+/- 0.04)"
       ]
      },
      {
       "output_type": "stream",
       "stream": "stdout",
       "text": [
        "\n",
        "lower=True\turl=False\tmention=True\n",
        "5-f CV Accuracy: 0.83 (+/- 0.04)"
       ]
      },
      {
       "output_type": "stream",
       "stream": "stdout",
       "text": [
        "\n",
        "lower=True\turl=False\tmention=False\n",
        "5-f CV Accuracy: 0.82 (+/- 0.04)"
       ]
      },
      {
       "output_type": "stream",
       "stream": "stdout",
       "text": [
        "\n",
        "lower=False\turl=True\tmention=True\n",
        "5-f CV Accuracy: 0.83 (+/- 0.05)"
       ]
      },
      {
       "output_type": "stream",
       "stream": "stdout",
       "text": [
        "\n",
        "lower=False\turl=True\tmention=False\n",
        "5-f CV Accuracy: 0.82 (+/- 0.04)"
       ]
      },
      {
       "output_type": "stream",
       "stream": "stdout",
       "text": [
        "\n",
        "lower=False\turl=False\tmention=True\n",
        "5-f CV Accuracy: 0.83 (+/- 0.04)"
       ]
      },
      {
       "output_type": "stream",
       "stream": "stdout",
       "text": [
        "\n",
        "lower=False\turl=False\tmention=False\n",
        "5-f CV Accuracy: 0.82 (+/- 0.03)"
       ]
      },
      {
       "output_type": "stream",
       "stream": "stdout",
       "text": [
        "\n"
       ]
      }
     ],
     "prompt_number": 161
    },
    {
     "cell_type": "code",
     "collapsed": false,
     "input": [
      "def print_features(coef, names):\n",
      "    \"\"\" Print sorted list of non-zero features/weights. \"\"\"\n",
      "    ### coef = clf.coef_[0]\n",
      "    ### names = vec.get_feature_names()\n",
      "    print \"*\" * 50\n",
      "    print(\"Number of Features: %s\" % len(names))\n",
      "    print \"\\n\".join('%s\\t%.2f' % (names[j], coef[j]) for j in np.argsort(coef)[::-1] if coef[j] != 0)\n",
      "    print \"*\" * 50\n"
     ],
     "language": "python",
     "metadata": {},
     "outputs": [],
     "prompt_number": 120
    },
    {
     "cell_type": "code",
     "collapsed": false,
     "input": [
      "clf = linear_model.LogisticRegression(penalty='l1', C=10)\n",
      "data = bunch_users(gds, bts, vct, True, True, True)\n",
      "clf.fit(data['bow'], data['target'])\n",
      "print_features(clf.coef_[0], vct.get_feature_names())"
     ],
     "language": "python",
     "metadata": {},
     "outputs": [
      {
       "output_type": "stream",
       "stream": "stdout",
       "text": [
        "**************************************************\n",
        "Number of Features: 26766\n",
        "right\t33.26\n",
        "obama\t26.69\n",
        "check\t26.14\n",
        "ff\t22.73\n",
        "your\t21.85\n",
        "video\t16.69\n",
        "better\t15.26\n",
        "vegas\t14.44\n",
        "grimm\t13.98\n",
        "jasrac\t13.91\n",
        "worldseries\t13.48\n",
        "like\t13.31\n",
        "hp\t12.51\n",
        "fashion\t12.48\n",
        "wa\t11.67\n",
        "solar\t11.56\n",
        "george\t11.21\n",
        "us\t10.87\n",
        "com\t10.64\n",
        "shellshock\t10.57\n",
        "nfl\t9.92\n",
        "katy\t9.83\n",
        "amp\t9.60\n",
        "up\t9.59\n",
        "2012\t9.18\n",
        "facebook\t8.83\n",
        "rock\t8.45\n",
        "everton\t8.36\n",
        "answer\t8.19\n",
        "non\t8.17\n",
        "zu\t8.08\n",
        "berlin\t7.89\n",
        "nomad\t7.88\n",
        "ramirez\t7.84\n",
        "halloween\t7.80\n",
        "we\t7.65\n",
        "u\t7.32\n",
        "tips\t7.18\n",
        "reproducci\t7.13\n",
        "super\t6.99\n",
        "seo\t6.97\n",
        "gt\t6.75\n",
        "best\t6.74\n",
        "remain\t6.72\n",
        "gold\t6.53\n",
        "learn\t6.33\n",
        "money\t6.31\n",
        "cup\t6.30\n",
        "hollywood\t6.27\n",
        "india\t6.25\n",
        "wine\t6.22\n",
        "wow\t5.86\n",
        "after\t5.85\n",
        "vc\t5.83\n",
        "london\t5.60\n",
        "review\t5.45\n",
        "signal\t5.40\n",
        "show\t5.36\n",
        "please\t5.19\n",
        "business\t5.12\n",
        "the\t5.03\n",
        "hockey\t4.92\n",
        "carlos\t4.84\n",
        "affiliate\t4.77\n",
        "cocktail\t4.72\n",
        "you\t4.67\n",
        "free\t4.67\n",
        "fantasy\t4.65\n",
        "pack\t4.62\n",
        "melbourne\t4.52\n",
        "football\t4.43\n",
        "estate\t4.41\n",
        "anime\t4.32\n",
        "top\t4.30\n",
        "series\t4.26\n",
        "winning\t4.21\n",
        "art\t4.18\n",
        "funny\t4.09\n",
        "traveled\t4.07\n",
        "on\t4.04\n",
        "hi\t4.02\n",
        "this\t3.97\n",
        "contest\t3.95\n",
        "homeless\t3.93\n",
        "event\t3.89\n",
        "though\t3.88\n",
        "via\t3.86\n",
        "watch\t3.66\n",
        "washington\t3.66\n",
        "og\t3.60\n",
        "desconto\t3.54\n",
        "awesome\t3.43\n",
        "tip\t3.37\n",
        "beer\t3.35\n",
        "bla\t3.34\n",
        "iot\t3.30\n",
        "mobile\t3.29\n",
        "all\t3.13\n",
        "lol\t3.10\n",
        "great\t3.09\n",
        "congratulations\t3.05\n",
        "cont\t3.05\n",
        "000\t2.93\n",
        "support\t2.91\n",
        "los\t2.85\n",
        "what\t2.85\n",
        "zoom\t2.79\n",
        "webdesign\t2.78\n",
        "v\t2.77\n",
        "cpu\t2.76\n",
        "past\t2.74\n",
        "brooklyn\t2.74\n",
        "food\t2.57\n",
        "creature\t2.57\n",
        "save\t2.57\n",
        "alert\t2.56\n",
        "outsiders\t2.55\n",
        "tlot\t2.42\n",
        "para\t2.32\n",
        "new\t2.30\n",
        "man\t2.15\n",
        "daily\t2.14\n",
        "these\t2.12\n",
        "n\t2.10\n",
        "soon\t1.91\n",
        "incl\t1.90\n",
        "marketing\t1.89\n",
        "skiing\t1.89\n",
        "swift\t1.85\n",
        "camping\t1.82\n",
        "packers\t1.80\n",
        "metal\t1.79\n",
        "hip\t1.70\n",
        "poker\t1.65\n",
        "analyse\t1.65\n",
        "done\t1.60\n",
        "archives\t1.57\n",
        "la\t1.55\n",
        "ukraine\t1.47\n",
        "quest\t1.46\n",
        "nudes\t1.44\n",
        "marijuana\t1.41\n",
        "maine\t1.40\n",
        "divorce\t1.35\n",
        "fight\t1.31\n",
        "disney\t1.22\n",
        "domain\t1.20\n",
        "randomness\t1.18\n",
        "golf\t1.14\n",
        "android\t1.11\n",
        "organic\t1.07\n",
        "photography\t1.05\n",
        "cro\t1.04\n",
        "receita\t1.02\n",
        "traffic\t1.00\n",
        "bey\t0.96\n",
        "experience\t0.95\n",
        "nt\t0.90\n",
        "dog\t0.87\n",
        "every\t0.81\n",
        "enjoy\t0.81\n",
        "mozfest\t0.80\n",
        "ipad\t0.76\n",
        "our\t0.74\n",
        "siege\t0.73\n",
        "hey\t0.65\n",
        "nasdaq\t0.65\n",
        "bangkok\t0.62\n",
        "for\t0.58\n",
        "thanks\t0.50\n",
        "fdp\t0.47\n",
        "page\t0.45\n",
        "mayor\t0.42\n",
        "wales\t0.32\n",
        "more\t0.30\n",
        "want\t0.27\n",
        "swag\t0.26\n",
        "edition\t0.24\n",
        "tcot\t0.24\n",
        "clippers\t0.23\n",
        "hamburg\t0.21\n",
        "finale\t0.13\n",
        "dose\t0.12\n",
        "royalty\t0.07\n",
        "tattoo\t0.05\n",
        "podcast\t0.04\n",
        "social\t0.03\n",
        "regram\t0.03\n",
        "sales\t0.01\n",
        "shopify\t-0.06\n",
        "aws\t-0.06\n",
        "knicks\t-0.09\n",
        "fuck\t-0.14\n",
        "xbox\t-0.15\n",
        "reading\t-0.15\n",
        "kiwi\t-0.22\n",
        "php\t-0.26\n",
        "jobs\t-0.27\n",
        "en\t-0.31\n",
        "ct\t-0.32\n",
        "api\t-0.34\n",
        "lieu\t-0.37\n",
        "excited\t-0.39\n",
        "about\t-0.39\n",
        "ist\t-0.40\n",
        "adam\t-0.44\n",
        "austin\t-0.46\n",
        "lua\t-0.50\n",
        "my\t-0.51\n",
        "phoenix\t-0.52\n",
        "3\t-0.59\n",
        "mia\t-0.59\n",
        "31\t-0.65\n",
        "native\t-0.67\n",
        "jag\t-0.73\n",
        "morning\t-0.75\n",
        "concurso\t-0.79\n",
        "google\t-0.83\n",
        "az\t-0.84\n",
        "es\t-0.90\n",
        "2\t-0.93\n",
        "nonprofits\t-0.96\n",
        "5c\t-0.97\n",
        "radio\t-0.99\n",
        "brisbane\t-1.01\n",
        "porto\t-1.05\n",
        "louis\t-1.09\n",
        "israeli\t-1.13\n",
        "u2\t-1.14\n",
        "3d\t-1.21\n",
        "analytics\t-1.28\n",
        "m\t-1.38\n",
        "nashville\t-1.39\n",
        "css\t-1.54\n",
        "occupycentral\t-1.56\n",
        "allergies\t-1.56\n",
        "k\t-1.58\n",
        "says\t-1.63\n",
        "storytelling\t-1.65\n",
        "c\t-1.65\n",
        "interactive\t-1.67\n",
        "how\t-1.73\n",
        "evening\t-1.80\n",
        "een\t-1.82\n",
        "raptors\t-1.90\n",
        "is\t-1.92\n",
        "photo\t-1.98\n",
        "jeg\t-2.08\n",
        "journalism\t-2.11\n",
        "cube\t-2.12\n",
        "tutorial\t-2.32\n",
        "500px\t-2.41\n",
        "ameba\t-2.42\n",
        "doesn\t-2.51\n",
        "indyref\t-2.54\n",
        "checkout\t-2.57\n",
        "vscocam\t-2.64\n",
        "r\t-2.68\n",
        "a\t-2.73\n",
        "diary\t-2.73\n",
        "sorry\t-2.74\n",
        "rt\t-2.84\n",
        "plugs\t-2.84\n",
        "because\t-2.85\n",
        "this_is_a_url\t-2.91\n",
        "birds\t-2.95\n",
        "ho\t-2.98\n",
        "set\t-3.01\n",
        "doctor\t-3.02\n",
        "coordinate\t-3.07\n",
        "mac\t-3.11\n",
        "ebola\t-3.15\n",
        "clima\t-3.17\n",
        "b2b\t-3.28\n",
        "chennai\t-3.33\n",
        "that\t-3.33\n",
        "pic\t-3.34\n",
        "as\t-3.36\n",
        "hub\t-3.42\n",
        "e\t-3.43\n",
        "acim\t-3.47\n",
        "of\t-3.54\n",
        "i\t-3.55\n",
        "why\t-3.55\n",
        "het\t-3.56\n",
        "cape\t-3.57\n",
        "au\t-3.59\n",
        "portland\t-3.60\n",
        "earthquake\t-3.72\n",
        "w\t-3.77\n",
        "vita\t-3.79\n",
        "df14\t-3.80\n",
        "getglue\t-3.91\n",
        "401\t-4.03\n",
        "sharepoint\t-4.03\n",
        "tigers\t-4.09\n",
        "photoset\t-4.15\n",
        "utah\t-4.32\n",
        "tvtag\t-4.39\n",
        "this_is_a_mention\t-4.52\n",
        "shot\t-4.52\n",
        "at\t-4.54\n",
        "athens\t-4.56\n",
        "francisco\t-4.61\n",
        "von\t-4.68\n",
        "aloha\t-4.72\n",
        "post\t-4.74\n",
        "_\t-5.12\n",
        "rochester\t-5.39\n",
        "un\t-5.61\n",
        "so\t-5.68\n",
        "nowplaying\t-5.69\n",
        "loved\t-5.70\n",
        "tatort\t-5.74\n",
        "email\t-5.76\n",
        "guide\t-5.78\n",
        "nemuritsuzuketeshinu\t-5.81\n",
        "el\t-5.86\n",
        "d\t-5.89\n",
        "rpg\t-5.93\n",
        "law\t-6.12\n",
        "singapore\t-6.29\n",
        "cm\t-6.33\n",
        "t\t-6.34\n",
        "fir\t-6.38\n",
        "dear\t-6.44\n",
        "me\t-6.51\n",
        "ingress\t-6.57\n",
        "times\t-6.57\n",
        "ugh\t-6.71\n",
        "html5\t-6.73\n",
        "in\t-6.77\n",
        "2014\t-6.91\n",
        "if\t-7.00\n",
        "lastfm\t-7.16\n",
        "when\t-7.17\n",
        "david\t-7.37\n",
        "from\t-7.50\n",
        "train\t-7.50\n",
        "liked\t-7.69\n",
        "plath\t-7.86\n",
        "data\t-8.19\n",
        "ruby\t-8.21\n",
        "day\t-8.27\n",
        "iowa\t-8.32\n",
        "11\t-8.49\n",
        "default\t-8.74\n",
        "infusionsoft\t-8.87\n",
        "ah\t-9.05\n",
        "japan\t-9.15\n",
        "block\t-9.42\n",
        "maps\t-9.46\n",
        "they\t-9.49\n",
        "hn\t-9.63\n",
        "tumblr\t-9.66\n",
        "tape\t-9.72\n",
        "hk\t-9.86\n",
        "being\t-9.87\n",
        "niet\t-10.03\n",
        "g\t-10.33\n",
        "islamic\t-10.38\n",
        "10\t-10.43\n",
        "looks\t-10.96\n",
        "se\t-11.04\n",
        "den\t-12.25\n",
        "jokowi\t-12.27\n",
        "giveaway\t-12.81\n",
        "av\t-12.93\n",
        "o\t-13.06\n",
        "km\t-13.22\n",
        "has\t-13.27\n",
        "abundance\t-13.63\n",
        "not\t-13.70\n",
        "yummy\t-13.77\n",
        "nhk\t-15.65\n",
        "yosemite\t-15.67\n",
        "le\t-16.38\n",
        "1\t-17.08\n",
        "play\t-17.32\n",
        "cheese\t-17.37\n",
        "work\t-17.41\n",
        "debate\t-17.99\n",
        "product\t-19.37\n",
        "ve\t-23.01\n",
        "oh\t-23.72\n",
        "**************************************************\n"
       ]
      }
     ],
     "prompt_number": 151
    },
    {
     "cell_type": "markdown",
     "metadata": {},
     "source": [
      "## Classifier Parameters: Grid Search\n",
      "\n",
      "For the classifier of choice we look for the best possible paramter to maximize accuracy. For logistic regression we look for the C penalty of regularization.\n",
      "\n",
      "### Results: \n",
      "We found that C=10 seems to work well with the data. \n",
      "\n",
      "*Note:* The data only includes users with tweets in the current year. "
     ]
    },
    {
     "cell_type": "code",
     "collapsed": false,
     "input": [
      "# Grid search best estimator\n",
      "from sklearn.cross_validation import StratifiedKFold, train_test_split\n",
      "from sklearn.metrics import classification_report\n",
      "from sklearn.grid_search import GridSearchCV\n",
      "\n",
      "def grid_search_clf(data):\n",
      "    tuned_parameters = [{'C':  [pow(10,x) for x in range(-3,4)]}]\n",
      "    # scores = ['accuracy','precision', 'recall']\n",
      "    measure = 'accuracy'\n",
      "    X_train, X_test, y_train, y_test = train_test_split(data['bow'], data['target'], test_size=0.25, random_state=0)\n",
      "    kcv = StratifiedKFold(y=y_train, n_folds=5, shuffle=True, random_state=546321)\n",
      "    \n",
      "    print(\"# Tuning hyper-parameters for %s\" % measure)\n",
      "    print(len(y_train))\n",
      "    clf_new = linear_model.LogisticRegression(penalty='l1')\n",
      "    clf = GridSearchCV(clf_new, tuned_parameters, cv=5, scoring=measure, n_jobs=10)\n",
      "    clf.fit(X_train, y_train)\n",
      "\n",
      "    print(\"Best parameters set found on development set:\")\n",
      "    print(clf.best_estimator_)\n",
      "    print()\n",
      "    print(\"Grid scores on development set:\")\n",
      "    print()\n",
      "    for params, mean_score, scores in clf.grid_scores_:\n",
      "        print(\"%0.3f (+/-%0.03f) for %r\"\n",
      "              % (mean_score, scores.std() / 2, params))\n",
      "    print()\n",
      "\n",
      "    print(\"Detailed classification report:\")\n",
      "    print()\n",
      "    print(\"The model is trained on the full development set.\")\n",
      "    print(\"The scores are computed on the full evaluation set.\")\n",
      "    print()\n",
      "    y_true, y_pred = y_test, clf.predict(X_test)\n",
      "    print(classification_report(y_true, y_pred))\n",
      "    print()\n"
     ],
     "language": "python",
     "metadata": {},
     "outputs": [],
     "prompt_number": 149
    },
    {
     "cell_type": "code",
     "collapsed": false,
     "input": [
      "grid_search_clf(data)"
     ],
     "language": "python",
     "metadata": {},
     "outputs": [
      {
       "output_type": "stream",
       "stream": "stdout",
       "text": [
        "# Tuning hyper-parameters for accuracy\n",
        "1172\n"
       ]
      },
      {
       "output_type": "stream",
       "stream": "stdout",
       "text": [
        "Best parameters set found on development set:\n",
        "LogisticRegression(C=10, class_weight=None, dual=False, fit_intercept=True,\n",
        "          intercept_scaling=1, penalty='l1', random_state=None, tol=0.0001)\n",
        "()\n",
        "Grid scores on development set:\n",
        "()\n",
        "0.539 (+/-0.000) for {'C': 0.001}\n",
        "0.539 (+/-0.000) for {'C': 0.01}\n",
        "0.752 (+/-0.010) for {'C': 0.1}\n",
        "0.808 (+/-0.004) for {'C': 1}\n",
        "0.842 (+/-0.006) for {'C': 10}\n",
        "0.823 (+/-0.007) for {'C': 100}\n",
        "0.829 (+/-0.005) for {'C': 1000}\n",
        "()\n",
        "Detailed classification report:\n",
        "()\n",
        "The model is trained on the full development set.\n",
        "The scores are computed on the full evaluation set.\n",
        "()\n",
        "             precision    recall  f1-score   support\n",
        "\n",
        "          0       0.81      0.83      0.82       206\n",
        "          1       0.80      0.78      0.79       185\n",
        "\n",
        "avg / total       0.81      0.81      0.81       391\n",
        "\n",
        "()\n"
       ]
      }
     ],
     "prompt_number": 150
    },
    {
     "cell_type": "markdown",
     "metadata": {},
     "source": [
      "##Data Representation\n",
      "We test the effect of the data representation in the performance of the classifier.\n",
      "\n",
      "###Results\n",
      "We observe that the performance of the classifier does not increase significantly. \n",
      "\n",
      "**Data Representation**\n",
      "\n",
      "We tried two vectorizers: Count and TFIdf. We combined with unigrams and two-grams. \n",
      "\n",
      "TFIDF + one-grams and two-grams work better. \n",
      "\n"
     ]
    },
    {
     "cell_type": "code",
     "collapsed": false,
     "input": [
      "vct = TfidfVectorizer(encoding='latin1', min_df=5, max_df=1.0, binary=False, ngram_range=(1,2),\n",
      "                      token_pattern='\\\\b\\\\w+\\\\b') \n",
      "\n",
      "try_all(clf, vct, gds, bts)"
     ],
     "language": "python",
     "metadata": {},
     "outputs": [
      {
       "output_type": "stream",
       "stream": "stdout",
       "text": [
        "lower=True\turl=True\tmention=True\n",
        "5-f CV Accuracy: 0.82 (+/- 0.03)"
       ]
      },
      {
       "output_type": "stream",
       "stream": "stdout",
       "text": [
        "\n",
        "lower=True\turl=True\tmention=False\n",
        "5-f CV Accuracy: 0.82 (+/- 0.03)"
       ]
      },
      {
       "output_type": "stream",
       "stream": "stdout",
       "text": [
        "\n",
        "lower=True\turl=False\tmention=True\n",
        "5-f CV Accuracy: 0.83 (+/- 0.03)"
       ]
      },
      {
       "output_type": "stream",
       "stream": "stdout",
       "text": [
        "\n",
        "lower=True\turl=False\tmention=False\n",
        "5-f CV Accuracy: 0.82 (+/- 0.03)"
       ]
      },
      {
       "output_type": "stream",
       "stream": "stdout",
       "text": [
        "\n",
        "lower=False\turl=True\tmention=True\n",
        "5-f CV Accuracy: 0.82 (+/- 0.03)"
       ]
      },
      {
       "output_type": "stream",
       "stream": "stdout",
       "text": [
        "\n",
        "lower=False\turl=True\tmention=False\n",
        "5-f CV Accuracy: 0.82 (+/- 0.03)"
       ]
      },
      {
       "output_type": "stream",
       "stream": "stdout",
       "text": [
        "\n",
        "lower=False\turl=False\tmention=True\n",
        "5-f CV Accuracy: 0.83 (+/- 0.03)"
       ]
      },
      {
       "output_type": "stream",
       "stream": "stdout",
       "text": [
        "\n",
        "lower=False\turl=False\tmention=False\n",
        "5-f CV Accuracy: 0.82 (+/- 0.02)"
       ]
      },
      {
       "output_type": "stream",
       "stream": "stdout",
       "text": [
        "\n"
       ]
      }
     ],
     "prompt_number": 162
    },
    {
     "cell_type": "code",
     "collapsed": false,
     "input": [
      "vct = TfidfVectorizer(encoding='latin1', min_df=1, max_df=1.0, binary=False, ngram_range=(1,1),\n",
      "                      token_pattern='\\\\b\\\\w+\\\\b') \n",
      "\n",
      "try_all(clf, vct, gds, bts)"
     ],
     "language": "python",
     "metadata": {},
     "outputs": [
      {
       "output_type": "stream",
       "stream": "stdout",
       "text": [
        "lower=True\turl=True\tmention=True\n",
        "5-f CV Accuracy: 0.81 (+/- 0.03)"
       ]
      },
      {
       "output_type": "stream",
       "stream": "stdout",
       "text": [
        "\n",
        "lower=True\turl=True\tmention=False\n",
        "5-f CV Accuracy: 0.81 (+/- 0.05)"
       ]
      },
      {
       "output_type": "stream",
       "stream": "stdout",
       "text": [
        "\n",
        "lower=True\turl=False\tmention=True\n",
        "5-f CV Accuracy: 0.82 (+/- 0.03)"
       ]
      },
      {
       "output_type": "stream",
       "stream": "stdout",
       "text": [
        "\n",
        "lower=True\turl=False\tmention=False\n",
        "5-f CV Accuracy: 0.82 (+/- 0.05)"
       ]
      },
      {
       "output_type": "stream",
       "stream": "stdout",
       "text": [
        "\n",
        "lower=False\turl=True\tmention=True\n",
        "5-f CV Accuracy: 0.81 (+/- 0.03)"
       ]
      },
      {
       "output_type": "stream",
       "stream": "stdout",
       "text": [
        "\n",
        "lower=False\turl=True\tmention=False\n",
        "5-f CV Accuracy: 0.81 (+/- 0.05)"
       ]
      },
      {
       "output_type": "stream",
       "stream": "stdout",
       "text": [
        "\n",
        "lower=False\turl=False\tmention=True\n",
        "5-f CV Accuracy: 0.82 (+/- 0.03)"
       ]
      },
      {
       "output_type": "stream",
       "stream": "stdout",
       "text": [
        "\n",
        "lower=False\turl=False\tmention=False\n",
        "5-f CV Accuracy: 0.82 (+/- 0.04)"
       ]
      },
      {
       "output_type": "stream",
       "stream": "stdout",
       "text": [
        "\n"
       ]
      }
     ],
     "prompt_number": 163
    },
    {
     "cell_type": "code",
     "collapsed": false,
     "input": [
      "vct = CountVectorizer(encoding='latin1', min_df=5, max_df=1.0, binary=False, ngram_range=(1,1),\n",
      "                      token_pattern='\\\\b\\\\w+\\\\b') \n",
      "\n",
      "try_all(clf, vct, gds, bts)"
     ],
     "language": "python",
     "metadata": {},
     "outputs": [
      {
       "output_type": "stream",
       "stream": "stdout",
       "text": [
        "lower=True\turl=True\tmention=True\n",
        "5-f CV Accuracy: 0.81 (+/- 0.04)"
       ]
      },
      {
       "output_type": "stream",
       "stream": "stdout",
       "text": [
        "\n",
        "lower=True\turl=True\tmention=False\n",
        "5-f CV Accuracy: 0.81 (+/- 0.04)"
       ]
      },
      {
       "output_type": "stream",
       "stream": "stdout",
       "text": [
        "\n",
        "lower=True\turl=False\tmention=True\n",
        "5-f CV Accuracy: 0.80 (+/- 0.06)"
       ]
      },
      {
       "output_type": "stream",
       "stream": "stdout",
       "text": [
        "\n",
        "lower=True\turl=False\tmention=False\n",
        "5-f CV Accuracy: 0.80 (+/- 0.05)"
       ]
      },
      {
       "output_type": "stream",
       "stream": "stdout",
       "text": [
        "\n",
        "lower=False\turl=True\tmention=True\n",
        "5-f CV Accuracy: 0.80 (+/- 0.04)"
       ]
      },
      {
       "output_type": "stream",
       "stream": "stdout",
       "text": [
        "\n",
        "lower=False\turl=True\tmention=False\n",
        "5-f CV Accuracy: 0.80 (+/- 0.05)"
       ]
      },
      {
       "output_type": "stream",
       "stream": "stdout",
       "text": [
        "\n",
        "lower=False\turl=False\tmention=True\n",
        "5-f CV Accuracy: 0.80 (+/- 0.05)"
       ]
      },
      {
       "output_type": "stream",
       "stream": "stdout",
       "text": [
        "\n",
        "lower=False\turl=False\tmention=False\n",
        "5-f CV Accuracy: 0.80 (+/- 0.05)"
       ]
      },
      {
       "output_type": "stream",
       "stream": "stdout",
       "text": [
        "\n"
       ]
      }
     ],
     "prompt_number": 164
    },
    {
     "cell_type": "markdown",
     "metadata": {},
     "source": [
      "##Testing Sentence Classifier\n",
      "Test how does a sentence classifier do classifying into bots and humans."
     ]
    },
    {
     "cell_type": "code",
     "collapsed": false,
     "input": [
      "##sentence detector in tweets\n",
      "def sentence_detector(timeline):\n",
      "    tl = []\n",
      "    print len(timeline)\n",
      "    for tw in timeline:\n",
      "        tl.append(tw)\n",
      "    return tl\n",
      "\n",
      "def convert2sentence(data):\n",
      "    all_sent=[]\n",
      "    all_target=[]\n",
      "    for user_timeline, label in zip(data['data'], data['target']):\n",
      "        sentences = user_timeline\n",
      "        lbls = [label] * len(sentences)\n",
      "        all_sent.extend(sentences)\n",
      "        all_target.extend(lbls)\n",
      "    return all_sent, all_target\n",
      "\n"
     ],
     "language": "python",
     "metadata": {},
     "outputs": [],
     "prompt_number": 178
    },
    {
     "cell_type": "code",
     "collapsed": false,
     "input": [
      "vct = TfidfVectorizer(encoding='latin1', min_df=5, max_df=1.0, binary=False, ngram_range=(1,2),\n",
      "                      token_pattern='\\\\b\\\\w+\\\\b') \n",
      "x_sent,y_sent = convert2sentence(data)\n",
      "\n",
      "indices = np.arange(len(y_sent))\n",
      "random_state.shuffle(indices)\n",
      "y_sent = np.array(y_sent)[indices]\n",
      "data_lst = np.array(x_sent , dtype=object)\n",
      "data_lst = data_lst[indices]\n",
      "x_sent = data_lst.tolist()\n"
     ],
     "language": "python",
     "metadata": {},
     "outputs": [],
     "prompt_number": 187
    },
    {
     "cell_type": "code",
     "collapsed": false,
     "input": [
      "clf_sent = linear_model.LogisticRegression(penalty='l1', C=10)\n",
      "print \"Total sentences:\", len(y_sent)\n",
      "learning_curve_tweet({'data':x_sent, 'target':y_sent, 'bow':vct.fit_transform(x_sent)},clf, sizes=range(1000, 20000, 1000))"
     ],
     "language": "python",
     "metadata": {},
     "outputs": [
      {
       "output_type": "stream",
       "stream": "stdout",
       "text": [
        "Total sentences: 309320\n"
       ]
      },
      {
       "output_type": "stream",
       "stream": "stdout",
       "text": [
        "----------------------------------------\n",
        "\n",
        "COST\tMEAN\tSTDEV\n",
        "1000\t0.646\t0.0032\n",
        "2000\t0.665\t0.0004\n",
        "3000\t0.676\t0.0009\n",
        "4000\t0.678\t0.0005\n",
        "5000\t0.681\t0.0008\n",
        "6000\t0.687\t0.0004\n",
        "7000\t0.691\t0.0004\n",
        "8000\t0.695\t0.0004\n",
        "9000\t0.699\t0.0006\n",
        "10000\t0.702\t0.0005\n",
        "11000\t0.704\t0.0005\n",
        "12000\t0.708\t0.0002\n",
        "13000\t0.711\t0.0002\n",
        "14000\t0.712\t0.0004\n",
        "15000\t0.714\t0.0004\n",
        "16000\t0.715\t0.0008\n",
        "17000\t0.717\t0.0005\n",
        "18000\t0.719\t0.0007\n",
        "19000\t0.720\t0.0004\n"
       ]
      },
      {
       "metadata": {},
       "output_type": "display_data",
       "png": "[encoded data removed]",
       "text": [
        "<matplotlib.figure.Figure at 0x11b075390>"
       ]
      }
     ],
     "prompt_number": 196
    },
    {
     "cell_type": "code",
     "collapsed": false,
     "input": [],
     "language": "python",
     "metadata": {},
     "outputs": []
    }
   ],
   "metadata": {}
  }
 ]
}